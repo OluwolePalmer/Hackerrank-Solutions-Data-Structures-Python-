{
 "cells": [
  {
   "cell_type": "markdown",
   "id": "b104e46d-5197-48ab-ae6d-d7db5ddb0712",
   "metadata": {},
   "source": [
    "(1) SWAP CASE: You are given a string and your task is to swap cases. In other words, convert all lowercase letters to uppercase letters and vice versa."
   ]
  },
  {
   "cell_type": "code",
   "execution_count": 1,
   "id": "8174251e-4321-45d7-aae9-f70daf562be5",
   "metadata": {},
   "outputs": [
    {
     "name": "stdin",
     "output_type": "stream",
     "text": [
      " bELIEVE\n"
     ]
    },
    {
     "data": {
      "text/plain": [
       "'Believe'"
      ]
     },
     "execution_count": 1,
     "metadata": {},
     "output_type": "execute_result"
    }
   ],
   "source": [
    "def swapcase(s):\n",
    "    modified_string = ''\n",
    "    for i in str(s):\n",
    "        if i.islower() == True:\n",
    "            modified_string += i.upper()\n",
    "        else:\n",
    "            modified_string += i.lower()\n",
    "    return modified_string\n",
    "\n",
    "s = input()\n",
    "result = swapcase(s)\n",
    "result"
   ]
  },
  {
   "cell_type": "markdown",
   "id": "06d44e5b-e795-40c5-8370-32536e3e7ae8",
   "metadata": {},
   "source": [
    "(2) FIND A STRING: The user enters a string and a substring. You have to print the number of times that the substring occurs in the given string. String traversal will take place from left to right, not from right to left."
   ]
  },
  {
   "cell_type": "code",
   "execution_count": 2,
   "id": "2937ba47-ed4e-4e91-9738-8a8eca766453",
   "metadata": {},
   "outputs": [
    {
     "name": "stdin",
     "output_type": "stream",
     "text": [
      " Hippopotamus\n",
      " po\n"
     ]
    },
    {
     "data": {
      "text/plain": [
       "2"
      ]
     },
     "execution_count": 2,
     "metadata": {},
     "output_type": "execute_result"
    }
   ],
   "source": [
    "def count_substring(string, substring):\n",
    "    num = 0\n",
    "    for i in range(len(string)):\n",
    "        if string[i:].startswith(substring):\n",
    "            num+=1\n",
    "    return num\n",
    "\n",
    "string = input()\n",
    "substring = input()\n",
    "result2 = count_substring(string, substring)\n",
    "result2"
   ]
  },
  {
   "cell_type": "markdown",
   "id": "bb8848a2-18f3-4e12-8cb0-b2b6cac11cee",
   "metadata": {},
   "source": [
    "(3) MUTATE A STRING: Read a given string, change the character at a given index and then print the modified string."
   ]
  },
  {
   "cell_type": "code",
   "execution_count": 3,
   "id": "d52c2566-0d38-48c4-989e-4d8d2a9daf1e",
   "metadata": {},
   "outputs": [
    {
     "name": "stdin",
     "output_type": "stream",
     "text": [
      " Kopile-Palmer\n",
      " 2\n",
      " s\n"
     ]
    },
    {
     "data": {
      "text/plain": [
       "'Kosile-Palmer'"
      ]
     },
     "execution_count": 3,
     "metadata": {},
     "output_type": "execute_result"
    }
   ],
   "source": [
    "def mutate_string(string, index, character):\n",
    "    liste = list(string)\n",
    "    liste[index] = str(character)\n",
    "    new_string = ''.join(liste)\n",
    "    return new_string\n",
    "\n",
    "string = input()\n",
    "index = input()\n",
    "character = input()\n",
    "result3 = mutate_string(string, int(index), character)\n",
    "result3"
   ]
  },
  {
   "cell_type": "markdown",
   "id": "f7627b55-2d9c-4c88-8bbb-18998d580567",
   "metadata": {},
   "source": [
    "(4) ACTIONS ON LISTS: Consider a list (list = []). You can perform the following commands:\n",
    "\n",
    "i) insert i e: Insert integer  at position .\n",
    "ii) print: Print the list.\n",
    "iii) remove e: Delete the first occurrence of integer .\n",
    "iv) append e: Insert integer  at the end of the list.\n",
    "v) sort: Sort the list.\n",
    "vi) pop: Pop the last element from the list.\n",
    "vii) reverse: Reverse the list.\n",
    "\n",
    "Initialize your list and read in the value of  followed by  lines of commands where each command will be of the  types listed above. Iterate through each command in order and perform the corresponding operation on your list."
   ]
  },
  {
   "cell_type": "code",
   "execution_count": 4,
   "id": "1c743acb-03f4-47b8-9765-7ebd5e62dc51",
   "metadata": {},
   "outputs": [
    {
     "name": "stdin",
     "output_type": "stream",
     "text": [
      " 3\n",
      " insert 0 1\n",
      " append 5\n",
      " print\n"
     ]
    },
    {
     "name": "stdout",
     "output_type": "stream",
     "text": [
      "[1, 5]\n"
     ]
    }
   ],
   "source": [
    "N = int(input())\n",
    "liste = []\n",
    "for i in range(N):\n",
    "    command = input().split()\n",
    "    if command[0] == 'insert':\n",
    "        liste.insert(int(command[1]), int(command[2]))\n",
    "    elif command[0] == 'print':\n",
    "        print(liste)\n",
    "    elif command[0] == 'remove':\n",
    "        liste.remove(int(command[1]))\n",
    "    elif command[0] == 'append':\n",
    "        liste.append(int(command[1]))\n",
    "    elif command[0] == 'sort':\n",
    "        liste.sort()\n",
    "    elif command[0] == 'pop':\n",
    "        liste.pop()\n",
    "    elif command[0] == 'reverse':\n",
    "        liste.reverse()"
   ]
  },
  {
   "cell_type": "markdown",
   "id": "c98c5bf2-2430-4439-a7a3-d4ea116bbe04",
   "metadata": {},
   "source": [
    "(5) LIST COMPREHENSIONS: You are given three integers x, y, z  and  representing the dimensions of a cuboid along with an integer n . Print a list of all possible coordinates given by (i,j,k)  on a 3D grid where the sum of i+j+k is not equal to n. "
   ]
  },
  {
   "cell_type": "code",
   "execution_count": 5,
   "id": "ea021de2-4c81-49a7-bf6b-482868557802",
   "metadata": {},
   "outputs": [
    {
     "name": "stdin",
     "output_type": "stream",
     "text": [
      " 2\n",
      " 2\n",
      " 2\n",
      " 3\n"
     ]
    },
    {
     "data": {
      "text/plain": [
       "[[0, 0, 0],\n",
       " [0, 0, 1],\n",
       " [0, 0, 2],\n",
       " [0, 1, 0],\n",
       " [0, 1, 1],\n",
       " [0, 2, 0],\n",
       " [0, 2, 2],\n",
       " [1, 0, 0],\n",
       " [1, 0, 1],\n",
       " [1, 1, 0],\n",
       " [1, 1, 2],\n",
       " [1, 2, 1],\n",
       " [1, 2, 2],\n",
       " [2, 0, 0],\n",
       " [2, 0, 2],\n",
       " [2, 1, 1],\n",
       " [2, 1, 2],\n",
       " [2, 2, 0],\n",
       " [2, 2, 1],\n",
       " [2, 2, 2]]"
      ]
     },
     "execution_count": 5,
     "metadata": {},
     "output_type": "execute_result"
    }
   ],
   "source": [
    "x = int(input())\n",
    "y = int(input())\n",
    "z = int(input())\n",
    "n = int(input())\n",
    "\n",
    "result = [[i,j,k] for i in range(x+1) for j in range(y+1) for k in range(z+1) if i+j+k!=n]\n",
    "result"
   ]
  },
  {
   "cell_type": "code",
   "execution_count": null,
   "id": "e5131277-3bc3-4784-a212-57691c34f0b6",
   "metadata": {},
   "outputs": [],
   "source": []
  },
  {
   "cell_type": "code",
   "execution_count": null,
   "id": "e6b2261c-cfe8-48b6-b843-30dce2cf1d1c",
   "metadata": {},
   "outputs": [],
   "source": []
  }
 ],
 "metadata": {
  "kernelspec": {
   "display_name": "Python 3 (ipykernel)",
   "language": "python",
   "name": "python3"
  },
  "language_info": {
   "codemirror_mode": {
    "name": "ipython",
    "version": 3
   },
   "file_extension": ".py",
   "mimetype": "text/x-python",
   "name": "python",
   "nbconvert_exporter": "python",
   "pygments_lexer": "ipython3",
   "version": "3.11.7"
  }
 },
 "nbformat": 4,
 "nbformat_minor": 5
}
